{
 "cells": [
  {
   "cell_type": "code",
   "execution_count": 7,
   "metadata": {},
   "outputs": [],
   "source": [
    "# Dependencies\n",
    "from bs4 import BeautifulSoup\n",
    "import requests\n",
    "import pandas as pd"
   ]
  },
  {
   "cell_type": "code",
   "execution_count": 8,
   "metadata": {},
   "outputs": [],
   "source": [
    "url = \"https://www.sportsmediawatch.com/super-bowl-ratings-historical-viewership-chart-cbs-nbc-fox-abc/\""
   ]
  },
  {
   "cell_type": "code",
   "execution_count": 9,
   "metadata": {},
   "outputs": [],
   "source": [
    "response = requests.get(url)\n"
   ]
  },
  {
   "cell_type": "code",
   "execution_count": 10,
   "metadata": {},
   "outputs": [],
   "source": [
    "tables = pd.read_html(url, header=[0,1])"
   ]
  },
  {
   "cell_type": "code",
   "execution_count": 11,
   "metadata": {},
   "outputs": [
    {
     "data": {
      "text/html": [
       "<div>\n",
       "<style scoped>\n",
       "    .dataframe tbody tr th:only-of-type {\n",
       "        vertical-align: middle;\n",
       "    }\n",
       "\n",
       "    .dataframe tbody tr th {\n",
       "        vertical-align: top;\n",
       "    }\n",
       "\n",
       "    .dataframe thead tr th {\n",
       "        text-align: left;\n",
       "    }\n",
       "</style>\n",
       "<table border=\"1\" class=\"dataframe\">\n",
       "  <thead>\n",
       "    <tr>\n",
       "      <th></th>\n",
       "      <th>Year</th>\n",
       "      <th>Game</th>\n",
       "      <th>Margin</th>\n",
       "      <th>Net</th>\n",
       "      <th colspan=\"5\" halign=\"left\">Overall</th>\n",
       "      <th colspan=\"2\" halign=\"left\">A18-49</th>\n",
       "    </tr>\n",
       "    <tr>\n",
       "      <th></th>\n",
       "      <th>Year</th>\n",
       "      <th>Game</th>\n",
       "      <th>Margin</th>\n",
       "      <th>Net</th>\n",
       "      <th>Rtg</th>\n",
       "      <th>TV Vwrs</th>\n",
       "      <th>Strm</th>\n",
       "      <th>Spnsh</th>\n",
       "      <th>OOH</th>\n",
       "      <th>Rtg</th>\n",
       "      <th>Vwrs</th>\n",
       "    </tr>\n",
       "  </thead>\n",
       "  <tbody>\n",
       "    <tr>\n",
       "      <th>0</th>\n",
       "      <td>2020</td>\n",
       "      <td>KC-SF</td>\n",
       "      <td>KC +11</td>\n",
       "      <td>FOX</td>\n",
       "      <td>41.6</td>\n",
       "      <td>100.45M</td>\n",
       "      <td>3.4M</td>\n",
       "      <td>757K</td>\n",
       "      <td>13M</td>\n",
       "      <td>29.9</td>\n",
       "      <td>38.67M</td>\n",
       "    </tr>\n",
       "    <tr>\n",
       "      <th>1</th>\n",
       "      <td>2019</td>\n",
       "      <td>NE-LAR</td>\n",
       "      <td>NE +10</td>\n",
       "      <td>CBS</td>\n",
       "      <td>41.1</td>\n",
       "      <td>98.19M</td>\n",
       "      <td>2.6M</td>\n",
       "      <td>473K</td>\n",
       "      <td>12M</td>\n",
       "      <td>31.0</td>\n",
       "      <td>39.95M</td>\n",
       "    </tr>\n",
       "    <tr>\n",
       "      <th>2</th>\n",
       "      <td>2018</td>\n",
       "      <td>PHI-NE</td>\n",
       "      <td>PHI +8</td>\n",
       "      <td>NBC</td>\n",
       "      <td>43.1</td>\n",
       "      <td>103.39M</td>\n",
       "      <td>2.02M</td>\n",
       "      <td>543K</td>\n",
       "      <td>12M</td>\n",
       "      <td>33.4</td>\n",
       "      <td>43.00M</td>\n",
       "    </tr>\n",
       "    <tr>\n",
       "      <th>3</th>\n",
       "      <td>2017</td>\n",
       "      <td>NE-ATL</td>\n",
       "      <td>NE +6 (OT)</td>\n",
       "      <td>FOX</td>\n",
       "      <td>45.3</td>\n",
       "      <td>111.32M</td>\n",
       "      <td>1.72M</td>\n",
       "      <td>650K</td>\n",
       "      <td>—</td>\n",
       "      <td>37.1</td>\n",
       "      <td>47.62M</td>\n",
       "    </tr>\n",
       "    <tr>\n",
       "      <th>4</th>\n",
       "      <td>2016</td>\n",
       "      <td>DEN-CAR</td>\n",
       "      <td>DEN +14</td>\n",
       "      <td>CBS</td>\n",
       "      <td>46.6</td>\n",
       "      <td>111.86M</td>\n",
       "      <td>1.40M</td>\n",
       "      <td>472K</td>\n",
       "      <td>—</td>\n",
       "      <td>37.7</td>\n",
       "      <td>47.86M</td>\n",
       "    </tr>\n",
       "  </tbody>\n",
       "</table>\n",
       "</div>"
      ],
      "text/plain": [
       "   Year     Game      Margin  Net Overall                            A18-49  \\\n",
       "   Year     Game      Margin  Net     Rtg  TV Vwrs   Strm Spnsh  OOH    Rtg   \n",
       "0  2020    KC-SF      KC +11  FOX    41.6  100.45M   3.4M  757K  13M   29.9   \n",
       "1  2019   NE-LAR      NE +10  CBS    41.1   98.19M   2.6M  473K  12M   31.0   \n",
       "2  2018   PHI-NE      PHI +8  NBC    43.1  103.39M  2.02M  543K  12M   33.4   \n",
       "3  2017   NE-ATL  NE +6 (OT)  FOX    45.3  111.32M  1.72M  650K    —   37.1   \n",
       "4  2016  DEN-CAR     DEN +14  CBS    46.6  111.86M  1.40M  472K    —   37.7   \n",
       "\n",
       "           \n",
       "     Vwrs  \n",
       "0  38.67M  \n",
       "1  39.95M  \n",
       "2  43.00M  \n",
       "3  47.62M  \n",
       "4  47.86M  "
      ]
     },
     "execution_count": 11,
     "metadata": {},
     "output_type": "execute_result"
    }
   ],
   "source": [
    "df = tables[0]\n",
    "\n",
    "df.head()"
   ]
  },
  {
   "cell_type": "code",
   "execution_count": 13,
   "metadata": {},
   "outputs": [],
   "source": [
    "df.to_csv(\"rating_data.csv\")"
   ]
  },
  {
   "cell_type": "code",
   "execution_count": null,
   "metadata": {},
   "outputs": [],
   "source": []
  }
 ],
 "metadata": {
  "kernelspec": {
   "display_name": "Python 3",
   "language": "python",
   "name": "python3"
  },
  "language_info": {
   "codemirror_mode": {
    "name": "ipython",
    "version": 3
   },
   "file_extension": ".py",
   "mimetype": "text/x-python",
   "name": "python",
   "nbconvert_exporter": "python",
   "pygments_lexer": "ipython3",
   "version": "3.8.3"
  },
  "varInspector": {
   "cols": {
    "lenName": 16,
    "lenType": 16,
    "lenVar": 40
   },
   "kernels_config": {
    "python": {
     "delete_cmd_postfix": "",
     "delete_cmd_prefix": "del ",
     "library": "var_list.py",
     "varRefreshCmd": "print(var_dic_list())"
    },
    "r": {
     "delete_cmd_postfix": ") ",
     "delete_cmd_prefix": "rm(",
     "library": "var_list.r",
     "varRefreshCmd": "cat(var_dic_list()) "
    }
   },
   "types_to_exclude": [
    "module",
    "function",
    "builtin_function_or_method",
    "instance",
    "_Feature"
   ],
   "window_display": false
  }
 },
 "nbformat": 4,
 "nbformat_minor": 2
}
