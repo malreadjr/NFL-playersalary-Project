{
 "cells": [
  {
   "cell_type": "code",
   "execution_count": 2,
   "metadata": {},
   "outputs": [],
   "source": [
    "import pandas as pd\n",
    "import json"
   ]
  },
  {
   "cell_type": "markdown",
   "metadata": {},
   "source": [
    "# Cleaning Wiki SB CSV"
   ]
  },
  {
   "cell_type": "code",
   "execution_count": 3,
   "metadata": {},
   "outputs": [],
   "source": [
    "wiki_df = pd.read_csv(\"./Outputs/sb_results_wiki.csv\")"
   ]
  },
  {
   "cell_type": "code",
   "execution_count": 5,
   "metadata": {},
   "outputs": [],
   "source": [
    "# wiki_df.head()"
   ]
  },
  {
   "cell_type": "code",
   "execution_count": null,
   "metadata": {
    "scrolled": true
   },
   "outputs": [],
   "source": [
    "wiki_df.columns"
   ]
  },
  {
   "cell_type": "code",
   "execution_count": null,
   "metadata": {},
   "outputs": [],
   "source": [
    "clean_wiki = wiki_df.drop(['Unnamed: 0', 'Ref'], axis=1)"
   ]
  },
  {
   "cell_type": "code",
   "execution_count": null,
   "metadata": {},
   "outputs": [],
   "source": [
    "clean_wiki = clean_wiki.drop([54, 55, 56, 57, 58, 59])"
   ]
  },
  {
   "cell_type": "code",
   "execution_count": null,
   "metadata": {
    "scrolled": true
   },
   "outputs": [],
   "source": [
    "# clean_wiki"
   ]
  },
  {
   "cell_type": "code",
   "execution_count": null,
   "metadata": {},
   "outputs": [],
   "source": [
    "# Run to Export CSV\n",
    "# clean_wiki.to_csv(\"./Outputs/Cleaned/[Cleaned]Wiki-Superbowl-Results.csv\")"
   ]
  },
  {
   "cell_type": "markdown",
   "metadata": {},
   "source": [
    "# Cleaning Data.World SB CSV"
   ]
  },
  {
   "cell_type": "code",
   "execution_count": null,
   "metadata": {},
   "outputs": [],
   "source": [
    "dataworld_df = pd.read_csv(\"./Outputs/data_world_Super_Bowl.csv\")"
   ]
  },
  {
   "cell_type": "code",
   "execution_count": null,
   "metadata": {},
   "outputs": [],
   "source": [
    "# dataworld_df"
   ]
  },
  {
   "cell_type": "code",
   "execution_count": null,
   "metadata": {},
   "outputs": [],
   "source": [
    "clean_dataworld_df = dataworld_df.drop(['Referee', 'Umpire', 'Head Linesman', 'Line Judge', 'Field Judge', 'Back Judge', 'Side Judge'], axis=1)"
   ]
  },
  {
   "cell_type": "code",
   "execution_count": null,
   "metadata": {},
   "outputs": [],
   "source": [
    "# clean_dataworld_df"
   ]
  },
  {
   "cell_type": "code",
   "execution_count": null,
   "metadata": {},
   "outputs": [],
   "source": [
    "# Run to export CSV\n",
    "# clean_dataworld_df.to_csv(\"./Outputs/Cleaned/[Cleaned]Data.World-Superbowl-Results.csv\")"
   ]
  },
  {
   "cell_type": "markdown",
   "metadata": {},
   "source": [
    "# Cleaning Rating_Data CSV"
   ]
  },
  {
   "cell_type": "code",
   "execution_count": 2,
   "metadata": {},
   "outputs": [],
   "source": [
    "rating_df = pd.read_csv(\"./Outputs/rating_data.csv\")"
   ]
  },
  {
   "cell_type": "code",
   "execution_count": 3,
   "metadata": {
    "scrolled": true
   },
   "outputs": [],
   "source": [
    "# rating_df"
   ]
  },
  {
   "cell_type": "code",
   "execution_count": 4,
   "metadata": {},
   "outputs": [],
   "source": [
    "new_header = rating_df.iloc[0] #grab the first row for the header="
   ]
  },
  {
   "cell_type": "code",
   "execution_count": 5,
   "metadata": {},
   "outputs": [],
   "source": [
    "rating_df = rating_df[1:] #take the data less the header row"
   ]
  },
  {
   "cell_type": "code",
   "execution_count": 6,
   "metadata": {
    "scrolled": true
   },
   "outputs": [],
   "source": [
    "rating_df.columns = new_header #set the header row as the df header"
   ]
  },
  {
   "cell_type": "code",
   "execution_count": 7,
   "metadata": {
    "scrolled": true
   },
   "outputs": [],
   "source": [
    "rating_df = rating_df.sort_values(by='Year', ascending=True,ignore_index=True)"
   ]
  },
  {
   "cell_type": "code",
   "execution_count": 8,
   "metadata": {
    "scrolled": true
   },
   "outputs": [],
   "source": [
    "rating_new = rating_df.drop(rating_df.columns[1:5], axis=1)\n",
    "# rating_new"
   ]
  },
  {
   "cell_type": "code",
   "execution_count": 9,
   "metadata": {
    "scrolled": true
   },
   "outputs": [],
   "source": [
    "rating_new = rating_new.drop([\"Vwrs\"], axis=1)"
   ]
  },
  {
   "cell_type": "code",
   "execution_count": 10,
   "metadata": {
    "scrolled": true
   },
   "outputs": [],
   "source": [
    "# rating_new"
   ]
  },
  {
   "cell_type": "code",
   "execution_count": 11,
   "metadata": {},
   "outputs": [],
   "source": [
    "rating_new.rename(columns={'TV Vwrs': 'TV Viewers', 'Strm': 'Streaming', 'Spnsh': 'Spanish', 'OOH': 'Out Of Home'}, inplace=True)"
   ]
  },
  {
   "cell_type": "code",
   "execution_count": 12,
   "metadata": {
    "scrolled": true
   },
   "outputs": [],
   "source": [
    "total = 0.00\n",
    "rating_new[\"Total\"] = total"
   ]
  },
  {
   "cell_type": "code",
   "execution_count": 13,
   "metadata": {
    "scrolled": true
   },
   "outputs": [
    {
     "data": {
      "text/html": [
       "<div>\n",
       "<style scoped>\n",
       "    .dataframe tbody tr th:only-of-type {\n",
       "        vertical-align: middle;\n",
       "    }\n",
       "\n",
       "    .dataframe tbody tr th {\n",
       "        vertical-align: top;\n",
       "    }\n",
       "\n",
       "    .dataframe thead th {\n",
       "        text-align: right;\n",
       "    }\n",
       "</style>\n",
       "<table border=\"1\" class=\"dataframe\">\n",
       "  <thead>\n",
       "    <tr style=\"text-align: right;\">\n",
       "      <th></th>\n",
       "      <th>Year</th>\n",
       "      <th>TV Viewers</th>\n",
       "      <th>Streaming</th>\n",
       "      <th>Spanish</th>\n",
       "      <th>Out Of Home</th>\n",
       "      <th>Total</th>\n",
       "    </tr>\n",
       "  </thead>\n",
       "  <tbody>\n",
       "    <tr>\n",
       "      <th>0</th>\n",
       "      <td>1967</td>\n",
       "      <td>24.43M</td>\n",
       "      <td>—</td>\n",
       "      <td>—</td>\n",
       "      <td>—</td>\n",
       "      <td>0.0</td>\n",
       "    </tr>\n",
       "    <tr>\n",
       "      <th>1</th>\n",
       "      <td>1967</td>\n",
       "      <td>26.75M</td>\n",
       "      <td>—</td>\n",
       "      <td>—</td>\n",
       "      <td>—</td>\n",
       "      <td>0.0</td>\n",
       "    </tr>\n",
       "    <tr>\n",
       "      <th>2</th>\n",
       "      <td>1968</td>\n",
       "      <td>39.12M</td>\n",
       "      <td>—</td>\n",
       "      <td>—</td>\n",
       "      <td>—</td>\n",
       "      <td>0.0</td>\n",
       "    </tr>\n",
       "    <tr>\n",
       "      <th>3</th>\n",
       "      <td>1969</td>\n",
       "      <td>41.66M</td>\n",
       "      <td>—</td>\n",
       "      <td>—</td>\n",
       "      <td>—</td>\n",
       "      <td>0.0</td>\n",
       "    </tr>\n",
       "    <tr>\n",
       "      <th>4</th>\n",
       "      <td>1970</td>\n",
       "      <td>44.27M</td>\n",
       "      <td>—</td>\n",
       "      <td>—</td>\n",
       "      <td>—</td>\n",
       "      <td>0.0</td>\n",
       "    </tr>\n",
       "    <tr>\n",
       "      <th>5</th>\n",
       "      <td>1971</td>\n",
       "      <td>46.04M</td>\n",
       "      <td>—</td>\n",
       "      <td>—</td>\n",
       "      <td>—</td>\n",
       "      <td>0.0</td>\n",
       "    </tr>\n",
       "    <tr>\n",
       "      <th>6</th>\n",
       "      <td>1972</td>\n",
       "      <td>56.64M</td>\n",
       "      <td>—</td>\n",
       "      <td>—</td>\n",
       "      <td>—</td>\n",
       "      <td>0.0</td>\n",
       "    </tr>\n",
       "    <tr>\n",
       "      <th>7</th>\n",
       "      <td>1973</td>\n",
       "      <td>53.32M</td>\n",
       "      <td>—</td>\n",
       "      <td>—</td>\n",
       "      <td>—</td>\n",
       "      <td>0.0</td>\n",
       "    </tr>\n",
       "    <tr>\n",
       "      <th>8</th>\n",
       "      <td>1974</td>\n",
       "      <td>51.70M</td>\n",
       "      <td>—</td>\n",
       "      <td>—</td>\n",
       "      <td>—</td>\n",
       "      <td>0.0</td>\n",
       "    </tr>\n",
       "    <tr>\n",
       "      <th>9</th>\n",
       "      <td>1975</td>\n",
       "      <td>56.05M</td>\n",
       "      <td>—</td>\n",
       "      <td>—</td>\n",
       "      <td>—</td>\n",
       "      <td>0.0</td>\n",
       "    </tr>\n",
       "    <tr>\n",
       "      <th>10</th>\n",
       "      <td>1976</td>\n",
       "      <td>57.71M</td>\n",
       "      <td>—</td>\n",
       "      <td>—</td>\n",
       "      <td>—</td>\n",
       "      <td>0.0</td>\n",
       "    </tr>\n",
       "    <tr>\n",
       "      <th>11</th>\n",
       "      <td>1977</td>\n",
       "      <td>62.05M</td>\n",
       "      <td>—</td>\n",
       "      <td>—</td>\n",
       "      <td>—</td>\n",
       "      <td>0.0</td>\n",
       "    </tr>\n",
       "    <tr>\n",
       "      <th>12</th>\n",
       "      <td>1978</td>\n",
       "      <td>78.94M</td>\n",
       "      <td>—</td>\n",
       "      <td>—</td>\n",
       "      <td>—</td>\n",
       "      <td>0.0</td>\n",
       "    </tr>\n",
       "    <tr>\n",
       "      <th>13</th>\n",
       "      <td>1979</td>\n",
       "      <td>74.74M</td>\n",
       "      <td>—</td>\n",
       "      <td>—</td>\n",
       "      <td>—</td>\n",
       "      <td>0.0</td>\n",
       "    </tr>\n",
       "    <tr>\n",
       "      <th>14</th>\n",
       "      <td>1980</td>\n",
       "      <td>76.24M</td>\n",
       "      <td>—</td>\n",
       "      <td>—</td>\n",
       "      <td>—</td>\n",
       "      <td>0.0</td>\n",
       "    </tr>\n",
       "    <tr>\n",
       "      <th>15</th>\n",
       "      <td>1981</td>\n",
       "      <td>68.29M</td>\n",
       "      <td>—</td>\n",
       "      <td>—</td>\n",
       "      <td>—</td>\n",
       "      <td>0.0</td>\n",
       "    </tr>\n",
       "    <tr>\n",
       "      <th>16</th>\n",
       "      <td>1982</td>\n",
       "      <td>85.24M</td>\n",
       "      <td>—</td>\n",
       "      <td>—</td>\n",
       "      <td>—</td>\n",
       "      <td>0.0</td>\n",
       "    </tr>\n",
       "    <tr>\n",
       "      <th>17</th>\n",
       "      <td>1983</td>\n",
       "      <td>81.77M</td>\n",
       "      <td>—</td>\n",
       "      <td>—</td>\n",
       "      <td>—</td>\n",
       "      <td>0.0</td>\n",
       "    </tr>\n",
       "    <tr>\n",
       "      <th>18</th>\n",
       "      <td>1984</td>\n",
       "      <td>77.62M</td>\n",
       "      <td>—</td>\n",
       "      <td>—</td>\n",
       "      <td>—</td>\n",
       "      <td>0.0</td>\n",
       "    </tr>\n",
       "    <tr>\n",
       "      <th>19</th>\n",
       "      <td>1985</td>\n",
       "      <td>85.53M</td>\n",
       "      <td>—</td>\n",
       "      <td>—</td>\n",
       "      <td>—</td>\n",
       "      <td>0.0</td>\n",
       "    </tr>\n",
       "    <tr>\n",
       "      <th>20</th>\n",
       "      <td>1986</td>\n",
       "      <td>92.57M</td>\n",
       "      <td>—</td>\n",
       "      <td>—</td>\n",
       "      <td>—</td>\n",
       "      <td>0.0</td>\n",
       "    </tr>\n",
       "    <tr>\n",
       "      <th>21</th>\n",
       "      <td>1987</td>\n",
       "      <td>87.19M</td>\n",
       "      <td>—</td>\n",
       "      <td>—</td>\n",
       "      <td>—</td>\n",
       "      <td>0.0</td>\n",
       "    </tr>\n",
       "    <tr>\n",
       "      <th>22</th>\n",
       "      <td>1988</td>\n",
       "      <td>80.14M</td>\n",
       "      <td>—</td>\n",
       "      <td>—</td>\n",
       "      <td>—</td>\n",
       "      <td>0.0</td>\n",
       "    </tr>\n",
       "    <tr>\n",
       "      <th>23</th>\n",
       "      <td>1989</td>\n",
       "      <td>81.59M</td>\n",
       "      <td>—</td>\n",
       "      <td>—</td>\n",
       "      <td>—</td>\n",
       "      <td>0.0</td>\n",
       "    </tr>\n",
       "    <tr>\n",
       "      <th>24</th>\n",
       "      <td>1990</td>\n",
       "      <td>73.85M</td>\n",
       "      <td>—</td>\n",
       "      <td>—</td>\n",
       "      <td>—</td>\n",
       "      <td>0.0</td>\n",
       "    </tr>\n",
       "    <tr>\n",
       "      <th>25</th>\n",
       "      <td>1991</td>\n",
       "      <td>79.51M</td>\n",
       "      <td>—</td>\n",
       "      <td>—</td>\n",
       "      <td>—</td>\n",
       "      <td>0.0</td>\n",
       "    </tr>\n",
       "    <tr>\n",
       "      <th>26</th>\n",
       "      <td>1992</td>\n",
       "      <td>79.59M</td>\n",
       "      <td>—</td>\n",
       "      <td>—</td>\n",
       "      <td>—</td>\n",
       "      <td>0.0</td>\n",
       "    </tr>\n",
       "    <tr>\n",
       "      <th>27</th>\n",
       "      <td>1993</td>\n",
       "      <td>90.99M</td>\n",
       "      <td>—</td>\n",
       "      <td>—</td>\n",
       "      <td>—</td>\n",
       "      <td>0.0</td>\n",
       "    </tr>\n",
       "    <tr>\n",
       "      <th>28</th>\n",
       "      <td>1994</td>\n",
       "      <td>90.00M</td>\n",
       "      <td>—</td>\n",
       "      <td>—</td>\n",
       "      <td>—</td>\n",
       "      <td>0.0</td>\n",
       "    </tr>\n",
       "    <tr>\n",
       "      <th>29</th>\n",
       "      <td>1995</td>\n",
       "      <td>83.42M</td>\n",
       "      <td>—</td>\n",
       "      <td>—</td>\n",
       "      <td>—</td>\n",
       "      <td>0.0</td>\n",
       "    </tr>\n",
       "    <tr>\n",
       "      <th>30</th>\n",
       "      <td>1996</td>\n",
       "      <td>94.08M</td>\n",
       "      <td>—</td>\n",
       "      <td>—</td>\n",
       "      <td>—</td>\n",
       "      <td>0.0</td>\n",
       "    </tr>\n",
       "    <tr>\n",
       "      <th>31</th>\n",
       "      <td>1997</td>\n",
       "      <td>87.87M</td>\n",
       "      <td>—</td>\n",
       "      <td>—</td>\n",
       "      <td>—</td>\n",
       "      <td>0.0</td>\n",
       "    </tr>\n",
       "    <tr>\n",
       "      <th>32</th>\n",
       "      <td>1998</td>\n",
       "      <td>90.00M</td>\n",
       "      <td>—</td>\n",
       "      <td>—</td>\n",
       "      <td>—</td>\n",
       "      <td>0.0</td>\n",
       "    </tr>\n",
       "    <tr>\n",
       "      <th>33</th>\n",
       "      <td>1999</td>\n",
       "      <td>83.72M</td>\n",
       "      <td>—</td>\n",
       "      <td>—</td>\n",
       "      <td>—</td>\n",
       "      <td>0.0</td>\n",
       "    </tr>\n",
       "    <tr>\n",
       "      <th>34</th>\n",
       "      <td>2000</td>\n",
       "      <td>88.47M</td>\n",
       "      <td>—</td>\n",
       "      <td>—</td>\n",
       "      <td>—</td>\n",
       "      <td>0.0</td>\n",
       "    </tr>\n",
       "    <tr>\n",
       "      <th>35</th>\n",
       "      <td>2001</td>\n",
       "      <td>84.34M</td>\n",
       "      <td>—</td>\n",
       "      <td>—</td>\n",
       "      <td>—</td>\n",
       "      <td>0.0</td>\n",
       "    </tr>\n",
       "    <tr>\n",
       "      <th>36</th>\n",
       "      <td>2002</td>\n",
       "      <td>86.80M</td>\n",
       "      <td>—</td>\n",
       "      <td>—</td>\n",
       "      <td>—</td>\n",
       "      <td>0.0</td>\n",
       "    </tr>\n",
       "    <tr>\n",
       "      <th>37</th>\n",
       "      <td>2003</td>\n",
       "      <td>88.64M</td>\n",
       "      <td>—</td>\n",
       "      <td>—</td>\n",
       "      <td>—</td>\n",
       "      <td>0.0</td>\n",
       "    </tr>\n",
       "    <tr>\n",
       "      <th>38</th>\n",
       "      <td>2004</td>\n",
       "      <td>89.80M</td>\n",
       "      <td>—</td>\n",
       "      <td>—</td>\n",
       "      <td>—</td>\n",
       "      <td>0.0</td>\n",
       "    </tr>\n",
       "    <tr>\n",
       "      <th>39</th>\n",
       "      <td>2005</td>\n",
       "      <td>86.07M</td>\n",
       "      <td>—</td>\n",
       "      <td>—</td>\n",
       "      <td>—</td>\n",
       "      <td>0.0</td>\n",
       "    </tr>\n",
       "    <tr>\n",
       "      <th>40</th>\n",
       "      <td>2006</td>\n",
       "      <td>90.75M</td>\n",
       "      <td>—</td>\n",
       "      <td>—</td>\n",
       "      <td>—</td>\n",
       "      <td>0.0</td>\n",
       "    </tr>\n",
       "    <tr>\n",
       "      <th>41</th>\n",
       "      <td>2007</td>\n",
       "      <td>93.18M</td>\n",
       "      <td>—</td>\n",
       "      <td>—</td>\n",
       "      <td>—</td>\n",
       "      <td>0.0</td>\n",
       "    </tr>\n",
       "    <tr>\n",
       "      <th>42</th>\n",
       "      <td>2008</td>\n",
       "      <td>97.45M</td>\n",
       "      <td>—</td>\n",
       "      <td>—</td>\n",
       "      <td>—</td>\n",
       "      <td>0.0</td>\n",
       "    </tr>\n",
       "    <tr>\n",
       "      <th>43</th>\n",
       "      <td>2009</td>\n",
       "      <td>98.73M</td>\n",
       "      <td>—</td>\n",
       "      <td>—</td>\n",
       "      <td>—</td>\n",
       "      <td>0.0</td>\n",
       "    </tr>\n",
       "    <tr>\n",
       "      <th>44</th>\n",
       "      <td>2010</td>\n",
       "      <td>106.48M</td>\n",
       "      <td>—</td>\n",
       "      <td>—</td>\n",
       "      <td>—</td>\n",
       "      <td>0.0</td>\n",
       "    </tr>\n",
       "    <tr>\n",
       "      <th>45</th>\n",
       "      <td>2011</td>\n",
       "      <td>111.01M</td>\n",
       "      <td>—</td>\n",
       "      <td>—</td>\n",
       "      <td>—</td>\n",
       "      <td>0.0</td>\n",
       "    </tr>\n",
       "    <tr>\n",
       "      <th>46</th>\n",
       "      <td>2012</td>\n",
       "      <td>111.35M</td>\n",
       "      <td>346K</td>\n",
       "      <td>—</td>\n",
       "      <td>—</td>\n",
       "      <td>0.0</td>\n",
       "    </tr>\n",
       "    <tr>\n",
       "      <th>47</th>\n",
       "      <td>2013</td>\n",
       "      <td>108.69M</td>\n",
       "      <td>508K</td>\n",
       "      <td>—</td>\n",
       "      <td>—</td>\n",
       "      <td>0.0</td>\n",
       "    </tr>\n",
       "    <tr>\n",
       "      <th>48</th>\n",
       "      <td>2014</td>\n",
       "      <td>112.19M</td>\n",
       "      <td>531K</td>\n",
       "      <td>561K</td>\n",
       "      <td>—</td>\n",
       "      <td>0.0</td>\n",
       "    </tr>\n",
       "    <tr>\n",
       "      <th>49</th>\n",
       "      <td>2015</td>\n",
       "      <td>114.44M</td>\n",
       "      <td>973K</td>\n",
       "      <td>368K</td>\n",
       "      <td>—</td>\n",
       "      <td>0.0</td>\n",
       "    </tr>\n",
       "    <tr>\n",
       "      <th>50</th>\n",
       "      <td>2016</td>\n",
       "      <td>111.86M</td>\n",
       "      <td>1.40M</td>\n",
       "      <td>472K</td>\n",
       "      <td>—</td>\n",
       "      <td>0.0</td>\n",
       "    </tr>\n",
       "    <tr>\n",
       "      <th>51</th>\n",
       "      <td>2017</td>\n",
       "      <td>111.32M</td>\n",
       "      <td>1.72M</td>\n",
       "      <td>650K</td>\n",
       "      <td>—</td>\n",
       "      <td>0.0</td>\n",
       "    </tr>\n",
       "    <tr>\n",
       "      <th>52</th>\n",
       "      <td>2018</td>\n",
       "      <td>103.39M</td>\n",
       "      <td>2.02M</td>\n",
       "      <td>543K</td>\n",
       "      <td>12M</td>\n",
       "      <td>0.0</td>\n",
       "    </tr>\n",
       "    <tr>\n",
       "      <th>53</th>\n",
       "      <td>2019</td>\n",
       "      <td>98.19M</td>\n",
       "      <td>2.6M</td>\n",
       "      <td>473K</td>\n",
       "      <td>12M</td>\n",
       "      <td>0.0</td>\n",
       "    </tr>\n",
       "    <tr>\n",
       "      <th>54</th>\n",
       "      <td>2020</td>\n",
       "      <td>100.45M</td>\n",
       "      <td>3.4M</td>\n",
       "      <td>757K</td>\n",
       "      <td>13M</td>\n",
       "      <td>0.0</td>\n",
       "    </tr>\n",
       "  </tbody>\n",
       "</table>\n",
       "</div>"
      ],
      "text/plain": [
       "0   Year TV Viewers Streaming Spanish Out Of Home  Total\n",
       "0   1967     24.43M         —       —           —    0.0\n",
       "1   1967     26.75M         —       —           —    0.0\n",
       "2   1968     39.12M         —       —           —    0.0\n",
       "3   1969     41.66M         —       —           —    0.0\n",
       "4   1970     44.27M         —       —           —    0.0\n",
       "5   1971     46.04M         —       —           —    0.0\n",
       "6   1972     56.64M         —       —           —    0.0\n",
       "7   1973     53.32M         —       —           —    0.0\n",
       "8   1974     51.70M         —       —           —    0.0\n",
       "9   1975     56.05M         —       —           —    0.0\n",
       "10  1976     57.71M         —       —           —    0.0\n",
       "11  1977     62.05M         —       —           —    0.0\n",
       "12  1978     78.94M         —       —           —    0.0\n",
       "13  1979     74.74M         —       —           —    0.0\n",
       "14  1980     76.24M         —       —           —    0.0\n",
       "15  1981     68.29M         —       —           —    0.0\n",
       "16  1982     85.24M         —       —           —    0.0\n",
       "17  1983     81.77M         —       —           —    0.0\n",
       "18  1984     77.62M         —       —           —    0.0\n",
       "19  1985     85.53M         —       —           —    0.0\n",
       "20  1986     92.57M         —       —           —    0.0\n",
       "21  1987     87.19M         —       —           —    0.0\n",
       "22  1988     80.14M         —       —           —    0.0\n",
       "23  1989     81.59M         —       —           —    0.0\n",
       "24  1990     73.85M         —       —           —    0.0\n",
       "25  1991     79.51M         —       —           —    0.0\n",
       "26  1992     79.59M         —       —           —    0.0\n",
       "27  1993     90.99M         —       —           —    0.0\n",
       "28  1994     90.00M         —       —           —    0.0\n",
       "29  1995     83.42M         —       —           —    0.0\n",
       "30  1996     94.08M         —       —           —    0.0\n",
       "31  1997     87.87M         —       —           —    0.0\n",
       "32  1998     90.00M         —       —           —    0.0\n",
       "33  1999     83.72M         —       —           —    0.0\n",
       "34  2000     88.47M         —       —           —    0.0\n",
       "35  2001     84.34M         —       —           —    0.0\n",
       "36  2002     86.80M         —       —           —    0.0\n",
       "37  2003     88.64M         —       —           —    0.0\n",
       "38  2004     89.80M         —       —           —    0.0\n",
       "39  2005     86.07M         —       —           —    0.0\n",
       "40  2006     90.75M         —       —           —    0.0\n",
       "41  2007     93.18M         —       —           —    0.0\n",
       "42  2008     97.45M         —       —           —    0.0\n",
       "43  2009     98.73M         —       —           —    0.0\n",
       "44  2010    106.48M         —       —           —    0.0\n",
       "45  2011    111.01M         —       —           —    0.0\n",
       "46  2012    111.35M      346K       —           —    0.0\n",
       "47  2013    108.69M      508K       —           —    0.0\n",
       "48  2014    112.19M      531K    561K           —    0.0\n",
       "49  2015    114.44M      973K    368K           —    0.0\n",
       "50  2016    111.86M     1.40M    472K           —    0.0\n",
       "51  2017    111.32M     1.72M    650K           —    0.0\n",
       "52  2018    103.39M     2.02M    543K         12M    0.0\n",
       "53  2019     98.19M      2.6M    473K         12M    0.0\n",
       "54  2020    100.45M      3.4M    757K         13M    0.0"
      ]
     },
     "execution_count": 13,
     "metadata": {},
     "output_type": "execute_result"
    }
   ],
   "source": [
    "# Must convert to numbers first\n",
    "\n",
    "# sum_column = rating_new[\"TV Viewers\"] + rating_new[\"Streaming\"]\n",
    "# rating_new[\"Total\"] = sum_column\n",
    "\n",
    "rating_new"
   ]
  },
  {
   "cell_type": "code",
   "execution_count": 14,
   "metadata": {},
   "outputs": [
    {
     "name": "stdout",
     "output_type": "stream",
     "text": [
      "0\n",
      "Year            object\n",
      "TV Viewers      object\n",
      "Streaming       object\n",
      "Spanish         object\n",
      "Out Of Home     object\n",
      "Total          float64\n",
      "dtype: object\n"
     ]
    }
   ],
   "source": [
    "print(rating_new.dtypes)"
   ]
  },
  {
   "cell_type": "code",
   "execution_count": 15,
   "metadata": {
    "scrolled": true
   },
   "outputs": [],
   "source": [
    "rating_new['TV Viewers'] = rating_new[\"TV Viewers\"].str.replace(r'M$', '')"
   ]
  },
  {
   "cell_type": "code",
   "execution_count": 16,
   "metadata": {},
   "outputs": [],
   "source": [
    "rating_new['Streaming'] = rating_new[\"Streaming\"].str.replace(r'K$', '000')"
   ]
  },
  {
   "cell_type": "code",
   "execution_count": 17,
   "metadata": {},
   "outputs": [],
   "source": [
    "rating_new['Streaming'] = rating_new[\"Streaming\"].str.replace(r'M$', '')"
   ]
  },
  {
   "cell_type": "code",
   "execution_count": 18,
   "metadata": {},
   "outputs": [],
   "source": [
    "rating_new['Spanish'] = rating_new[\"Spanish\"].str.replace(r'K$', '000')"
   ]
  },
  {
   "cell_type": "code",
   "execution_count": 19,
   "metadata": {},
   "outputs": [],
   "source": [
    "rating_new['Out Of Home'] = rating_new[\"Out Of Home\"].str.replace(r'M$', '000000')"
   ]
  },
  {
   "cell_type": "code",
   "execution_count": 20,
   "metadata": {
    "scrolled": true
   },
   "outputs": [],
   "source": [
    "rating_new['TV Viewers'] = rating_new[\"TV Viewers\"].astype(float) * 1000000"
   ]
  },
  {
   "cell_type": "code",
   "execution_count": 21,
   "metadata": {},
   "outputs": [],
   "source": [
    "rating_new['Streaming'] = rating_new['Streaming'].str.replace(r'—$', '0.0')"
   ]
  },
  {
   "cell_type": "code",
   "execution_count": 22,
   "metadata": {
    "scrolled": true
   },
   "outputs": [],
   "source": [
    "rating_new['Spanish'] = rating_new['Spanish'].str.replace(r'—$', '0.0')"
   ]
  },
  {
   "cell_type": "code",
   "execution_count": 23,
   "metadata": {},
   "outputs": [],
   "source": [
    "rating_new['Out Of Home'] = rating_new[\"Out Of Home\"].str.replace(r'—$', '0.0')"
   ]
  },
  {
   "cell_type": "code",
   "execution_count": 24,
   "metadata": {},
   "outputs": [],
   "source": [
    "rating_new['Streaming'] = rating_new[\"Streaming\"].astype(float)"
   ]
  },
  {
   "cell_type": "code",
   "execution_count": 25,
   "metadata": {},
   "outputs": [],
   "source": [
    "rating_new.loc[50:55, 'Streaming'] = rating_new.loc[50:55, 'Streaming'] * 1000000"
   ]
  },
  {
   "cell_type": "code",
   "execution_count": 26,
   "metadata": {},
   "outputs": [],
   "source": [
    "rating_new['Spanish'] = rating_new[\"Spanish\"].astype(float)"
   ]
  },
  {
   "cell_type": "code",
   "execution_count": 27,
   "metadata": {},
   "outputs": [],
   "source": [
    "rating_new['Out Of Home'] = rating_new[\"Out Of Home\"].astype(float)"
   ]
  },
  {
   "cell_type": "code",
   "execution_count": 28,
   "metadata": {},
   "outputs": [
    {
     "data": {
      "text/plain": [
       "51180000.0"
      ]
     },
     "execution_count": 28,
     "metadata": {},
     "output_type": "execute_result"
    }
   ],
   "source": [
    "sb1_tot_viewers = rating_new.loc[0, 'TV Viewers'] + rating_new.loc[1, 'TV Viewers']\n",
    "sb1_tot_viewers"
   ]
  },
  {
   "cell_type": "code",
   "execution_count": 29,
   "metadata": {
    "scrolled": true
   },
   "outputs": [],
   "source": [
    "rating_new.loc[-1] = [\"1967\", sb1_tot_viewers, 0.0, 0.0, 0.0, sb1_tot_viewers]"
   ]
  },
  {
   "cell_type": "code",
   "execution_count": 30,
   "metadata": {},
   "outputs": [],
   "source": [
    "rating_new.index = rating_new.index + 1 "
   ]
  },
  {
   "cell_type": "code",
   "execution_count": 31,
   "metadata": {},
   "outputs": [],
   "source": [
    "rating_new = rating_new.sort_index() "
   ]
  },
  {
   "cell_type": "code",
   "execution_count": 32,
   "metadata": {
    "scrolled": true
   },
   "outputs": [],
   "source": [
    "rating_new = rating_new.drop([1, 2])"
   ]
  },
  {
   "cell_type": "code",
   "execution_count": 33,
   "metadata": {},
   "outputs": [],
   "source": [
    "rating_new = rating_new.reset_index() "
   ]
  },
  {
   "cell_type": "code",
   "execution_count": 34,
   "metadata": {},
   "outputs": [],
   "source": [
    "rating_new = rating_new.drop(['index'], axis=1)"
   ]
  },
  {
   "cell_type": "code",
   "execution_count": 35,
   "metadata": {},
   "outputs": [],
   "source": [
    "# rating_new.to_csv(\"./Outputs/Cleaned/[Cleaned]TV-Ratings.csv\")"
   ]
  },
  {
   "cell_type": "code",
   "execution_count": 44,
   "metadata": {},
   "outputs": [],
   "source": [
    "#  JSON Export Test\n",
    "# result = rating_new.to_json(\"./Outputs/Cleaned/ratings.json\",orient='records')"
   ]
  },
  {
   "cell_type": "markdown",
   "metadata": {},
   "source": [
    "# JSONify"
   ]
  },
  {
   "cell_type": "code",
   "execution_count": 48,
   "metadata": {},
   "outputs": [],
   "source": [
    "ratings_to_json = pd.read_csv(\"./Outputs/Cleaned/[Cleaned]TV-Ratings.csv\")"
   ]
  },
  {
   "cell_type": "code",
   "execution_count": 50,
   "metadata": {},
   "outputs": [],
   "source": [
    "result = ratings_to_json.to_json(\"./Outputs/Cleaned/tv-ratings.json\", orient='records')"
   ]
  }
 ],
 "metadata": {
  "kernelspec": {
   "display_name": "Python 3",
   "language": "python",
   "name": "python3"
  },
  "language_info": {
   "codemirror_mode": {
    "name": "ipython",
    "version": 3
   },
   "file_extension": ".py",
   "mimetype": "text/x-python",
   "name": "python",
   "nbconvert_exporter": "python",
   "pygments_lexer": "ipython3",
   "version": "3.8.3"
  }
 },
 "nbformat": 4,
 "nbformat_minor": 4
}
