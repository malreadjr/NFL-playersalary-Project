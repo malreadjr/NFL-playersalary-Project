{
 "cells": [
  {
   "cell_type": "code",
   "execution_count": 35,
   "metadata": {},
   "outputs": [],
   "source": [
    "import pandas as pd\n",
    "from pathlib import Path"
   ]
  },
  {
   "cell_type": "markdown",
   "metadata": {},
   "source": [
    "## 2020 Player Salary Data - Pro Football Reference"
   ]
  },
  {
   "cell_type": "code",
   "execution_count": 36,
   "metadata": {},
   "outputs": [
    {
     "data": {
      "text/html": [
       "<div>\n",
       "<style scoped>\n",
       "    .dataframe tbody tr th:only-of-type {\n",
       "        vertical-align: middle;\n",
       "    }\n",
       "\n",
       "    .dataframe tbody tr th {\n",
       "        vertical-align: top;\n",
       "    }\n",
       "\n",
       "    .dataframe thead th {\n",
       "        text-align: right;\n",
       "    }\n",
       "</style>\n",
       "<table border=\"1\" class=\"dataframe\">\n",
       "  <thead>\n",
       "    <tr style=\"text-align: right;\">\n",
       "      <th></th>\n",
       "      <th>Rk</th>\n",
       "      <th>Player</th>\n",
       "      <th>Pos</th>\n",
       "      <th>Tm</th>\n",
       "      <th>Salary</th>\n",
       "      <th>year</th>\n",
       "    </tr>\n",
       "  </thead>\n",
       "  <tbody>\n",
       "    <tr>\n",
       "      <th>0</th>\n",
       "      <td>1.0</td>\n",
       "      <td>Dak Prescott</td>\n",
       "      <td>QB</td>\n",
       "      <td>DAL</td>\n",
       "      <td>$31,409,000</td>\n",
       "      <td>2020</td>\n",
       "    </tr>\n",
       "    <tr>\n",
       "      <th>1</th>\n",
       "      <td>2.0</td>\n",
       "      <td>Jimmy Garoppolo</td>\n",
       "      <td>QB</td>\n",
       "      <td>SFO</td>\n",
       "      <td>$23,800,000</td>\n",
       "      <td>2020</td>\n",
       "    </tr>\n",
       "    <tr>\n",
       "      <th>2</th>\n",
       "      <td>3.0</td>\n",
       "      <td>Trent Brown</td>\n",
       "      <td>OT</td>\n",
       "      <td>LVR</td>\n",
       "      <td>$21,250,000</td>\n",
       "      <td>2020</td>\n",
       "    </tr>\n",
       "    <tr>\n",
       "      <th>3</th>\n",
       "      <td>4.0</td>\n",
       "      <td>Derek Carr</td>\n",
       "      <td>QB</td>\n",
       "      <td>LVR</td>\n",
       "      <td>$18,900,000</td>\n",
       "      <td>2020</td>\n",
       "    </tr>\n",
       "    <tr>\n",
       "      <th>4</th>\n",
       "      <td>5.0</td>\n",
       "      <td>Russell Wilson</td>\n",
       "      <td>QB</td>\n",
       "      <td>SEA</td>\n",
       "      <td>$18,000,000</td>\n",
       "      <td>2020</td>\n",
       "    </tr>\n",
       "  </tbody>\n",
       "</table>\n",
       "</div>"
      ],
      "text/plain": [
       "    Rk           Player Pos   Tm       Salary  year\n",
       "0  1.0     Dak Prescott  QB  DAL  $31,409,000  2020\n",
       "1  2.0  Jimmy Garoppolo  QB  SFO  $23,800,000  2020\n",
       "2  3.0      Trent Brown  OT  LVR  $21,250,000  2020\n",
       "3  4.0       Derek Carr  QB  LVR  $18,900,000  2020\n",
       "4  5.0   Russell Wilson  QB  SEA  $18,000,000  2020"
      ]
     },
     "execution_count": 36,
     "metadata": {},
     "output_type": "execute_result"
    }
   ],
   "source": [
    "url = 'https://www.pro-football-reference.com/players/salary.htm'\n",
    "df = pd.read_html(url)[0]\n",
    "writepath = Path.cwd() / 'salaryData2020.csv'\n",
    "df['year'] = '2020'\n",
    "df.to_csv (writepath, index = False, header=True)\n",
    "df.head()"
   ]
  },
  {
   "cell_type": "markdown",
   "metadata": {},
   "source": [
    "## 2019 Player Salary Data - Pro Football Reference"
   ]
  },
  {
   "cell_type": "code",
   "execution_count": 37,
   "metadata": {},
   "outputs": [
    {
     "data": {
      "text/html": [
       "<div>\n",
       "<style scoped>\n",
       "    .dataframe tbody tr th:only-of-type {\n",
       "        vertical-align: middle;\n",
       "    }\n",
       "\n",
       "    .dataframe tbody tr th {\n",
       "        vertical-align: top;\n",
       "    }\n",
       "\n",
       "    .dataframe thead th {\n",
       "        text-align: right;\n",
       "    }\n",
       "</style>\n",
       "<table border=\"1\" class=\"dataframe\">\n",
       "  <thead>\n",
       "    <tr style=\"text-align: right;\">\n",
       "      <th></th>\n",
       "      <th>Rk</th>\n",
       "      <th>Player</th>\n",
       "      <th>Pos</th>\n",
       "      <th>Tm</th>\n",
       "      <th>Salary</th>\n",
       "      <th>year</th>\n",
       "    </tr>\n",
       "  </thead>\n",
       "  <tbody>\n",
       "    <tr>\n",
       "      <th>0</th>\n",
       "      <td>1.0</td>\n",
       "      <td>Kirk Cousins</td>\n",
       "      <td>QB</td>\n",
       "      <td>MIN</td>\n",
       "      <td>$27,500,000</td>\n",
       "      <td>2019</td>\n",
       "    </tr>\n",
       "    <tr>\n",
       "      <th>1</th>\n",
       "      <td>2.0</td>\n",
       "      <td>Marcus Mariota</td>\n",
       "      <td>QB</td>\n",
       "      <td>TEN</td>\n",
       "      <td>$20,922,000</td>\n",
       "      <td>2019</td>\n",
       "    </tr>\n",
       "    <tr>\n",
       "      <th>2</th>\n",
       "      <td>NaN</td>\n",
       "      <td>Jameis Winston</td>\n",
       "      <td>QB</td>\n",
       "      <td>TAM</td>\n",
       "      <td>$20,922,000</td>\n",
       "      <td>2019</td>\n",
       "    </tr>\n",
       "    <tr>\n",
       "      <th>3</th>\n",
       "      <td>4.0</td>\n",
       "      <td>Derek Carr</td>\n",
       "      <td>QB</td>\n",
       "      <td>OAK</td>\n",
       "      <td>$19,900,000</td>\n",
       "      <td>2019</td>\n",
       "    </tr>\n",
       "    <tr>\n",
       "      <th>4</th>\n",
       "      <td>5.0</td>\n",
       "      <td>Joe Flacco</td>\n",
       "      <td>QB</td>\n",
       "      <td>DEN</td>\n",
       "      <td>$18,500,000</td>\n",
       "      <td>2019</td>\n",
       "    </tr>\n",
       "  </tbody>\n",
       "</table>\n",
       "</div>"
      ],
      "text/plain": [
       "    Rk          Player Pos   Tm       Salary  year\n",
       "0  1.0    Kirk Cousins  QB  MIN  $27,500,000  2019\n",
       "1  2.0  Marcus Mariota  QB  TEN  $20,922,000  2019\n",
       "2  NaN  Jameis Winston  QB  TAM  $20,922,000  2019\n",
       "3  4.0      Derek Carr  QB  OAK  $19,900,000  2019\n",
       "4  5.0      Joe Flacco  QB  DEN  $18,500,000  2019"
      ]
     },
     "execution_count": 37,
     "metadata": {},
     "output_type": "execute_result"
    }
   ],
   "source": [
    "url = 'https://web.archive.org/web/20200330082855/https://www.pro-football-reference.com/players/salary.htm'\n",
    "df = pd.read_html(url)[2]\n",
    "writepath = Path.cwd() / 'salaryData2019.csv'\n",
    "df['year'] = '2019'\n",
    "df.to_csv (writepath, index = False, header=True)\n",
    "df.head()"
   ]
  },
  {
   "cell_type": "markdown",
   "metadata": {},
   "source": [
    "## 2018 Player Salary Data - Pro Football Reference"
   ]
  },
  {
   "cell_type": "code",
   "execution_count": 38,
   "metadata": {},
   "outputs": [
    {
     "data": {
      "text/html": [
       "<div>\n",
       "<style scoped>\n",
       "    .dataframe tbody tr th:only-of-type {\n",
       "        vertical-align: middle;\n",
       "    }\n",
       "\n",
       "    .dataframe tbody tr th {\n",
       "        vertical-align: top;\n",
       "    }\n",
       "\n",
       "    .dataframe thead th {\n",
       "        text-align: right;\n",
       "    }\n",
       "</style>\n",
       "<table border=\"1\" class=\"dataframe\">\n",
       "  <thead>\n",
       "    <tr style=\"text-align: right;\">\n",
       "      <th></th>\n",
       "      <th>Rk</th>\n",
       "      <th>Player</th>\n",
       "      <th>Pos</th>\n",
       "      <th>Tm</th>\n",
       "      <th>Salary</th>\n",
       "      <th>year</th>\n",
       "    </tr>\n",
       "  </thead>\n",
       "  <tbody>\n",
       "    <tr>\n",
       "      <th>0</th>\n",
       "      <td>1.0</td>\n",
       "      <td>Kirk Cousins</td>\n",
       "      <td>QB</td>\n",
       "      <td>MIN</td>\n",
       "      <td>$22,500,000</td>\n",
       "      <td>2018</td>\n",
       "    </tr>\n",
       "    <tr>\n",
       "      <th>1</th>\n",
       "      <td>2.0</td>\n",
       "      <td>Demarcus Lawrence</td>\n",
       "      <td>DE</td>\n",
       "      <td>DAL</td>\n",
       "      <td>$17,143,000</td>\n",
       "      <td>2018</td>\n",
       "    </tr>\n",
       "    <tr>\n",
       "      <th>2</th>\n",
       "      <td>NaN</td>\n",
       "      <td>Ezekiel Ansah</td>\n",
       "      <td>DE</td>\n",
       "      <td>DET</td>\n",
       "      <td>$17,143,000</td>\n",
       "      <td>2018</td>\n",
       "    </tr>\n",
       "    <tr>\n",
       "      <th>3</th>\n",
       "      <td>4.0</td>\n",
       "      <td>Russell Wilson</td>\n",
       "      <td>QB</td>\n",
       "      <td>SEA</td>\n",
       "      <td>$15,500,000</td>\n",
       "      <td>2018</td>\n",
       "    </tr>\n",
       "    <tr>\n",
       "      <th>4</th>\n",
       "      <td>5.0</td>\n",
       "      <td>Calais Campbell</td>\n",
       "      <td>DE</td>\n",
       "      <td>JAX</td>\n",
       "      <td>$15,000,000</td>\n",
       "      <td>2018</td>\n",
       "    </tr>\n",
       "  </tbody>\n",
       "</table>\n",
       "</div>"
      ],
      "text/plain": [
       "    Rk             Player Pos   Tm       Salary  year\n",
       "0  1.0       Kirk Cousins  QB  MIN  $22,500,000  2018\n",
       "1  2.0  Demarcus Lawrence  DE  DAL  $17,143,000  2018\n",
       "2  NaN      Ezekiel Ansah  DE  DET  $17,143,000  2018\n",
       "3  4.0     Russell Wilson  QB  SEA  $15,500,000  2018\n",
       "4  5.0    Calais Campbell  DE  JAX  $15,000,000  2018"
      ]
     },
     "execution_count": 38,
     "metadata": {},
     "output_type": "execute_result"
    }
   ],
   "source": [
    "url = 'https://web.archive.org/web/20190201121914/https://www.pro-football-reference.com/players/salary.htm'\n",
    "df = pd.read_html(url)[2]\n",
    "writepath = Path.cwd() / 'salaryData2018.csv'\n",
    "df['year'] = '2018'\n",
    "df.to_csv (writepath, index = False, header=True)\n",
    "df.head()"
   ]
  },
  {
   "cell_type": "markdown",
   "metadata": {},
   "source": [
    "## 2017 Player Salary Data - Pro Football Reference"
   ]
  },
  {
   "cell_type": "code",
   "execution_count": 39,
   "metadata": {},
   "outputs": [
    {
     "data": {
      "text/html": [
       "<div>\n",
       "<style scoped>\n",
       "    .dataframe tbody tr th:only-of-type {\n",
       "        vertical-align: middle;\n",
       "    }\n",
       "\n",
       "    .dataframe tbody tr th {\n",
       "        vertical-align: top;\n",
       "    }\n",
       "\n",
       "    .dataframe thead th {\n",
       "        text-align: right;\n",
       "    }\n",
       "</style>\n",
       "<table border=\"1\" class=\"dataframe\">\n",
       "  <thead>\n",
       "    <tr style=\"text-align: right;\">\n",
       "      <th></th>\n",
       "      <th>Rk</th>\n",
       "      <th>Player</th>\n",
       "      <th>Pos</th>\n",
       "      <th>Tm</th>\n",
       "      <th>Cap Hit</th>\n",
       "      <th>year</th>\n",
       "    </tr>\n",
       "  </thead>\n",
       "  <tbody>\n",
       "    <tr>\n",
       "      <th>0</th>\n",
       "      <td>1.0</td>\n",
       "      <td>Kirk Cousins</td>\n",
       "      <td>QB</td>\n",
       "      <td>WAS</td>\n",
       "      <td>$23,943,600</td>\n",
       "      <td>2017</td>\n",
       "    </tr>\n",
       "    <tr>\n",
       "      <th>1</th>\n",
       "      <td>2.0</td>\n",
       "      <td>Trumaine Johnson</td>\n",
       "      <td>CB</td>\n",
       "      <td>LAR</td>\n",
       "      <td>$16,742,400</td>\n",
       "      <td>2017</td>\n",
       "    </tr>\n",
       "    <tr>\n",
       "      <th>2</th>\n",
       "      <td>3.0</td>\n",
       "      <td>Von Miller</td>\n",
       "      <td>LB</td>\n",
       "      <td>DEN</td>\n",
       "      <td>$16,500,000</td>\n",
       "      <td>2017</td>\n",
       "    </tr>\n",
       "    <tr>\n",
       "      <th>3</th>\n",
       "      <td>NaN</td>\n",
       "      <td>Josh Norman</td>\n",
       "      <td>CB</td>\n",
       "      <td>WAS</td>\n",
       "      <td>$16,500,000</td>\n",
       "      <td>2017</td>\n",
       "    </tr>\n",
       "    <tr>\n",
       "      <th>4</th>\n",
       "      <td>5.0</td>\n",
       "      <td>Justin Houston</td>\n",
       "      <td>LB</td>\n",
       "      <td>KAN</td>\n",
       "      <td>$16,350,000</td>\n",
       "      <td>2017</td>\n",
       "    </tr>\n",
       "  </tbody>\n",
       "</table>\n",
       "</div>"
      ],
      "text/plain": [
       "    Rk            Player Pos   Tm      Cap Hit  year\n",
       "0  1.0      Kirk Cousins  QB  WAS  $23,943,600  2017\n",
       "1  2.0  Trumaine Johnson  CB  LAR  $16,742,400  2017\n",
       "2  3.0        Von Miller  LB  DEN  $16,500,000  2017\n",
       "3  NaN       Josh Norman  CB  WAS  $16,500,000  2017\n",
       "4  5.0    Justin Houston  LB  KAN  $16,350,000  2017"
      ]
     },
     "execution_count": 39,
     "metadata": {},
     "output_type": "execute_result"
    }
   ],
   "source": [
    "url = 'https://web.archive.org/web/20180720053649/https://www.pro-football-reference.com/players/salary.htm'\n",
    "df = pd.read_html(url)[2]\n",
    "writepath = Path.cwd() / 'salaryData2017.csv'\n",
    "df['year'] = '2017'\n",
    "df.to_csv (writepath, index = False, header=True)\n",
    "df.head()"
   ]
  },
  {
   "cell_type": "markdown",
   "metadata": {},
   "source": [
    "## 2016 Player Salary Data - Pro Football Reference"
   ]
  },
  {
   "cell_type": "code",
   "execution_count": 40,
   "metadata": {},
   "outputs": [
    {
     "data": {
      "text/html": [
       "<div>\n",
       "<style scoped>\n",
       "    .dataframe tbody tr th:only-of-type {\n",
       "        vertical-align: middle;\n",
       "    }\n",
       "\n",
       "    .dataframe tbody tr th {\n",
       "        vertical-align: top;\n",
       "    }\n",
       "\n",
       "    .dataframe thead th {\n",
       "        text-align: right;\n",
       "    }\n",
       "</style>\n",
       "<table border=\"1\" class=\"dataframe\">\n",
       "  <thead>\n",
       "    <tr style=\"text-align: right;\">\n",
       "      <th></th>\n",
       "      <th>Rk</th>\n",
       "      <th>Player</th>\n",
       "      <th>Pos</th>\n",
       "      <th>Tm</th>\n",
       "      <th>Cap Hit</th>\n",
       "      <th>year</th>\n",
       "    </tr>\n",
       "  </thead>\n",
       "  <tbody>\n",
       "    <tr>\n",
       "      <th>0</th>\n",
       "      <td>1.0</td>\n",
       "      <td>Ben Roethlisberger</td>\n",
       "      <td>QB</td>\n",
       "      <td>PIT</td>\n",
       "      <td>$23,950,000</td>\n",
       "      <td>2016</td>\n",
       "    </tr>\n",
       "    <tr>\n",
       "      <th>1</th>\n",
       "      <td>2.0</td>\n",
       "      <td>Matt Ryan</td>\n",
       "      <td>QB</td>\n",
       "      <td>ATL</td>\n",
       "      <td>$23,750,000</td>\n",
       "      <td>2016</td>\n",
       "    </tr>\n",
       "    <tr>\n",
       "      <th>2</th>\n",
       "      <td>3.0</td>\n",
       "      <td>Joe Flacco</td>\n",
       "      <td>QB</td>\n",
       "      <td>BAL</td>\n",
       "      <td>$22,550,000</td>\n",
       "      <td>2016</td>\n",
       "    </tr>\n",
       "    <tr>\n",
       "      <th>3</th>\n",
       "      <td>4.0</td>\n",
       "      <td>Kirk Cousins</td>\n",
       "      <td>QB</td>\n",
       "      <td>WAS</td>\n",
       "      <td>$19,953,000</td>\n",
       "      <td>2016</td>\n",
       "    </tr>\n",
       "    <tr>\n",
       "      <th>4</th>\n",
       "      <td>5.0</td>\n",
       "      <td>Cam Newton</td>\n",
       "      <td>QB</td>\n",
       "      <td>CAR</td>\n",
       "      <td>$19,500,000</td>\n",
       "      <td>2016</td>\n",
       "    </tr>\n",
       "  </tbody>\n",
       "</table>\n",
       "</div>"
      ],
      "text/plain": [
       "    Rk              Player Pos   Tm      Cap Hit  year\n",
       "0  1.0  Ben Roethlisberger  QB  PIT  $23,950,000  2016\n",
       "1  2.0           Matt Ryan  QB  ATL  $23,750,000  2016\n",
       "2  3.0          Joe Flacco  QB  BAL  $22,550,000  2016\n",
       "3  4.0        Kirk Cousins  QB  WAS  $19,953,000  2016\n",
       "4  5.0          Cam Newton  QB  CAR  $19,500,000  2016"
      ]
     },
     "execution_count": 40,
     "metadata": {},
     "output_type": "execute_result"
    }
   ],
   "source": [
    "url = 'https://web.archive.org/web/20170120204404/https://www.pro-football-reference.com/players/salary.htm'\n",
    "df = pd.read_html(url)[2]\n",
    "writepath = Path.cwd() / 'salaryData2016.csv'\n",
    "df['year'] = '2016'\n",
    "df.to_csv (writepath, index = False, header=True)\n",
    "df.head()"
   ]
  },
  {
   "cell_type": "markdown",
   "metadata": {},
   "source": [
    "## 2015 Player Salary Data - Pro Football Reference"
   ]
  },
  {
   "cell_type": "code",
   "execution_count": 41,
   "metadata": {},
   "outputs": [
    {
     "data": {
      "text/html": [
       "<div>\n",
       "<style scoped>\n",
       "    .dataframe tbody tr th:only-of-type {\n",
       "        vertical-align: middle;\n",
       "    }\n",
       "\n",
       "    .dataframe tbody tr th {\n",
       "        vertical-align: top;\n",
       "    }\n",
       "\n",
       "    .dataframe thead th {\n",
       "        text-align: right;\n",
       "    }\n",
       "</style>\n",
       "<table border=\"1\" class=\"dataframe\">\n",
       "  <thead>\n",
       "    <tr style=\"text-align: right;\">\n",
       "      <th></th>\n",
       "      <th>Rk</th>\n",
       "      <th>Unnamed: 1</th>\n",
       "      <th>Tm</th>\n",
       "      <th>Cap Hit</th>\n",
       "      <th>year</th>\n",
       "    </tr>\n",
       "  </thead>\n",
       "  <tbody>\n",
       "    <tr>\n",
       "      <th>0</th>\n",
       "      <td>1.0</td>\n",
       "      <td>Drew Brees</td>\n",
       "      <td>NOR</td>\n",
       "      <td>$26,400,000</td>\n",
       "      <td>2015</td>\n",
       "    </tr>\n",
       "    <tr>\n",
       "      <th>1</th>\n",
       "      <td>2.0</td>\n",
       "      <td>Philip Rivers</td>\n",
       "      <td>SDG</td>\n",
       "      <td>$21,166,668</td>\n",
       "      <td>2015</td>\n",
       "    </tr>\n",
       "    <tr>\n",
       "      <th>2</th>\n",
       "      <td>3.0</td>\n",
       "      <td>Calvin Johnson</td>\n",
       "      <td>DET</td>\n",
       "      <td>$20,558,000</td>\n",
       "      <td>2015</td>\n",
       "    </tr>\n",
       "    <tr>\n",
       "      <th>3</th>\n",
       "      <td>4.0</td>\n",
       "      <td>Charles Johnson</td>\n",
       "      <td>CAR</td>\n",
       "      <td>$20,020,000</td>\n",
       "      <td>2015</td>\n",
       "    </tr>\n",
       "    <tr>\n",
       "      <th>4</th>\n",
       "      <td>5.0</td>\n",
       "      <td>Matt Ryan</td>\n",
       "      <td>ATL</td>\n",
       "      <td>$19,500,000</td>\n",
       "      <td>2015</td>\n",
       "    </tr>\n",
       "  </tbody>\n",
       "</table>\n",
       "</div>"
      ],
      "text/plain": [
       "    Rk       Unnamed: 1   Tm      Cap Hit  year\n",
       "0  1.0       Drew Brees  NOR  $26,400,000  2015\n",
       "1  2.0    Philip Rivers  SDG  $21,166,668  2015\n",
       "2  3.0   Calvin Johnson  DET  $20,558,000  2015\n",
       "3  4.0  Charles Johnson  CAR  $20,020,000  2015\n",
       "4  5.0        Matt Ryan  ATL  $19,500,000  2015"
      ]
     },
     "execution_count": 41,
     "metadata": {},
     "output_type": "execute_result"
    }
   ],
   "source": [
    "url = 'https://web.archive.org/web/20160226102012/https://www.pro-football-reference.com/players/salary.htm'\n",
    "df = pd.read_html(url)[2]\n",
    "writepath = Path.cwd() / 'salaryData2015.csv'\n",
    "df['year'] = '2015'\n",
    "df.to_csv (writepath, index = False, header=True)\n",
    "df.head()"
   ]
  },
  {
   "cell_type": "markdown",
   "metadata": {},
   "source": [
    "## 2020 Player Information (Fantasy) - Pro Football Reference"
   ]
  },
  {
   "cell_type": "code",
   "execution_count": null,
   "metadata": {},
   "outputs": [],
   "source": [
    "url = 'https://www.pro-football-reference.com/years/2020/fantasy.htm'\n",
    "df = pd.read_html(url)[0]\n",
    "writepath = Path.cwd() / 'playerData2020.csv'\n",
    "df['year'] = '2020'\n",
    "df.to_csv (writepath, index = False, header=True)\n",
    "df.head()"
   ]
  },
  {
   "cell_type": "markdown",
   "metadata": {},
   "source": [
    "## 2019 Player Information (Fantasy) - Pro Football Reference"
   ]
  },
  {
   "cell_type": "code",
   "execution_count": null,
   "metadata": {},
   "outputs": [],
   "source": [
    "url = 'https://www.pro-football-reference.com/years/2019/fantasy.htm'\n",
    "df = pd.read_html(url)[0]\n",
    "writepath = Path.cwd() / 'playerData2019.csv'\n",
    "df['year'] = '2019'\n",
    "df.to_csv (writepath, index = False, header=True)\n",
    "df.head()"
   ]
  },
  {
   "cell_type": "markdown",
   "metadata": {},
   "source": [
    "## 2018 Player Information (Fantasy) - Pro Football Reference"
   ]
  },
  {
   "cell_type": "code",
   "execution_count": null,
   "metadata": {},
   "outputs": [],
   "source": [
    "url = 'https://www.pro-football-reference.com/years/2018/fantasy.htm'\n",
    "df = pd.read_html(url)[0]\n",
    "writepath = Path.cwd() / 'playerData2018.csv'\n",
    "df['year'] = '2018'\n",
    "df.to_csv (writepath, index = False, header=True)\n",
    "df.head()"
   ]
  },
  {
   "cell_type": "markdown",
   "metadata": {},
   "source": [
    "## 2017 Player Information (Fantasy) - Pro Football Reference"
   ]
  },
  {
   "cell_type": "code",
   "execution_count": null,
   "metadata": {},
   "outputs": [],
   "source": [
    "url = 'https://www.pro-football-reference.com/years/2017/fantasy.htm'\n",
    "df = pd.read_html(url)[0]\n",
    "writepath = Path.cwd() / 'playerData2017.csv'\n",
    "df['year'] = '2017'\n",
    "df.to_csv (writepath, index = False, header=True)\n",
    "df.head()"
   ]
  },
  {
   "cell_type": "markdown",
   "metadata": {},
   "source": [
    "## 2016 Player Information (Fantasy) - Pro Football Reference"
   ]
  },
  {
   "cell_type": "code",
   "execution_count": null,
   "metadata": {},
   "outputs": [],
   "source": [
    "url = 'https://www.pro-football-reference.com/years/2016/fantasy.htm'\n",
    "df = pd.read_html(url)[0]\n",
    "writepath = Path.cwd() / 'playerData2016.csv'\n",
    "df['year'] = '2016'\n",
    "df.to_csv (writepath, index = False, header=True)\n",
    "df.head()"
   ]
  },
  {
   "cell_type": "markdown",
   "metadata": {},
   "source": [
    "## 2015 Player Information (Fantasy) - Pro Football Reference"
   ]
  },
  {
   "cell_type": "code",
   "execution_count": null,
   "metadata": {},
   "outputs": [],
   "source": [
    "url = 'https://www.pro-football-reference.com/years/2015/fantasy.htm'\n",
    "df = pd.read_html(url)[0]\n",
    "writepath = Path.cwd() / 'playerData2015.csv'\n",
    "df['year'] = '2015'\n",
    "df.to_csv (writepath, index = False, header=True)\n",
    "df.head()"
   ]
  }
 ],
 "metadata": {
  "kernelspec": {
   "display_name": "Python 3",
   "language": "python",
   "name": "python3"
  },
  "language_info": {
   "codemirror_mode": {
    "name": "ipython",
    "version": 3
   },
   "file_extension": ".py",
   "mimetype": "text/x-python",
   "name": "python",
   "nbconvert_exporter": "python",
   "pygments_lexer": "ipython3",
   "version": "3.8.3"
  }
 },
 "nbformat": 4,
 "nbformat_minor": 4
}
