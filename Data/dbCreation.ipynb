{
 "cells": [
  {
   "cell_type": "code",
   "execution_count": 3,
   "metadata": {},
   "outputs": [],
   "source": [
    "import pandas as pd\n",
    "from sqlalchemy import create_engine\n",
    "from pathlib import Path"
   ]
  },
  {
   "cell_type": "markdown",
   "metadata": {},
   "source": [
    "## Import Data and Create Tables"
   ]
  },
  {
   "cell_type": "code",
   "execution_count": 5,
   "metadata": {},
   "outputs": [],
   "source": [
    "positionPath = Path.cwd() / 'positions.csv'"
   ]
  },
  {
   "cell_type": "code",
   "execution_count": 11,
   "metadata": {},
   "outputs": [],
   "source": [
    "positions = pd.read_csv(positionPath, header=None)\n",
    "positions.columns = ['position', 'offenseDefense']"
   ]
  },
  {
   "cell_type": "code",
   "execution_count": 12,
   "metadata": {},
   "outputs": [
    {
     "data": {
      "text/html": [
       "<div>\n",
       "<style scoped>\n",
       "    .dataframe tbody tr th:only-of-type {\n",
       "        vertical-align: middle;\n",
       "    }\n",
       "\n",
       "    .dataframe tbody tr th {\n",
       "        vertical-align: top;\n",
       "    }\n",
       "\n",
       "    .dataframe thead th {\n",
       "        text-align: right;\n",
       "    }\n",
       "</style>\n",
       "<table border=\"1\" class=\"dataframe\">\n",
       "  <thead>\n",
       "    <tr style=\"text-align: right;\">\n",
       "      <th></th>\n",
       "      <th>position</th>\n",
       "      <th>offenseDefense</th>\n",
       "    </tr>\n",
       "  </thead>\n",
       "  <tbody>\n",
       "    <tr>\n",
       "      <th>0</th>\n",
       "      <td>QB</td>\n",
       "      <td>offense</td>\n",
       "    </tr>\n",
       "    <tr>\n",
       "      <th>1</th>\n",
       "      <td>LB</td>\n",
       "      <td>defense</td>\n",
       "    </tr>\n",
       "    <tr>\n",
       "      <th>2</th>\n",
       "      <td>DB</td>\n",
       "      <td>defense</td>\n",
       "    </tr>\n",
       "    <tr>\n",
       "      <th>3</th>\n",
       "      <td>WR</td>\n",
       "      <td>offense</td>\n",
       "    </tr>\n",
       "    <tr>\n",
       "      <th>4</th>\n",
       "      <td>CB</td>\n",
       "      <td>defense</td>\n",
       "    </tr>\n",
       "  </tbody>\n",
       "</table>\n",
       "</div>"
      ],
      "text/plain": [
       "  position offenseDefense\n",
       "0       QB        offense\n",
       "1       LB        defense\n",
       "2       DB        defense\n",
       "3       WR        offense\n",
       "4       CB        defense"
      ]
     },
     "execution_count": 12,
     "metadata": {},
     "output_type": "execute_result"
    }
   ],
   "source": [
    "positions.head()"
   ]
  },
  {
   "cell_type": "markdown",
   "metadata": {},
   "source": [
    "## Create Database"
   ]
  },
  {
   "cell_type": "code",
   "execution_count": 17,
   "metadata": {},
   "outputs": [],
   "source": [
    "engine = create_engine('sqlite:///nflDB.db', echo=False)"
   ]
  },
  {
   "cell_type": "code",
   "execution_count": 30,
   "metadata": {},
   "outputs": [
    {
     "name": "stdout",
     "output_type": "stream",
     "text": [
      "dropping the table teams if it already exists...\n",
      "dropping the table players if it already exists...\n",
      "dropping the table rosters if it already exists...\n",
      "dropping the table position if it already exists...\n"
     ]
    }
   ],
   "source": [
    "teams_script = '''\n",
    "CREATE TABLE \"teams\" (\n",
    "  \"teamName\" varchar,\n",
    "  \"teamAbbrv\" varchar PRIMARY KEY,\n",
    "  \"teamState\" varchar,\n",
    "  \"teamCity\" varchar\n",
    ");\n",
    "'''\n",
    "\n",
    "players_script = '''\n",
    "CREATE TABLE \"players\" (\n",
    "  \"playerName\" varchar PRIMARY KEY,\n",
    "  \"position\" varchar\n",
    ");\n",
    "'''\n",
    "\n",
    "rosters_script = '''\n",
    "CREATE TABLE \"rosters\" (\n",
    "  \"teamName\" varchar PRIMARY KEY,\n",
    "  \"playerName\" varchar,\n",
    "  \"year\" integer,\n",
    "  \"salary\" double\n",
    ");\n",
    "'''\n",
    "\n",
    "position_script = '''\n",
    "CREATE TABLE \"positions\" (\n",
    "  \"position\" varchar PRIMARY KEY,\n",
    "  \"offenseDefense\" varchar\n",
    ")\n",
    "'''\n",
    "\n",
    "tables = {'teams' : teams_script.strip(),\n",
    "         'players': players_script.strip(),\n",
    "         'rosters' : rosters_script.strip(),\n",
    "         'position' : position_script.strip()}\n",
    "\n",
    "for table in tables.keys():\n",
    "    print(f'dropping the table {table} if it already exists...')\n",
    "    engine.execute(f'drop table IF EXISTS {table}')"
   ]
  },
  {
   "cell_type": "code",
   "execution_count": 31,
   "metadata": {},
   "outputs": [
    {
     "name": "stdout",
     "output_type": "stream",
     "text": [
      "creating the table teams...\n",
      "creating the table players...\n",
      "creating the table rosters...\n",
      "creating the table position...\n"
     ]
    }
   ],
   "source": [
    "for table , script in tables.items():\n",
    "    print(f'creating the table {table}...')\n",
    "    engine.execute(f'{script}')"
   ]
  },
  {
   "cell_type": "code",
   "execution_count": 32,
   "metadata": {},
   "outputs": [
    {
     "data": {
      "text/plain": [
       "['players', 'positions', 'rosters', 'teams']"
      ]
     },
     "execution_count": 32,
     "metadata": {},
     "output_type": "execute_result"
    }
   ],
   "source": [
    "engine.table_names()"
   ]
  },
  {
   "cell_type": "code",
   "execution_count": 34,
   "metadata": {},
   "outputs": [],
   "source": [
    "positions.to_sql(name='positions', con=engine, if_exists='append', index=False)"
   ]
  },
  {
   "cell_type": "code",
   "execution_count": null,
   "metadata": {},
   "outputs": [],
   "source": []
  }
 ],
 "metadata": {
  "kernelspec": {
   "display_name": "Python 3",
   "language": "python",
   "name": "python3"
  },
  "language_info": {
   "codemirror_mode": {
    "name": "ipython",
    "version": 3
   },
   "file_extension": ".py",
   "mimetype": "text/x-python",
   "name": "python",
   "nbconvert_exporter": "python",
   "pygments_lexer": "ipython3",
   "version": "3.8.3"
  }
 },
 "nbformat": 4,
 "nbformat_minor": 4
}
