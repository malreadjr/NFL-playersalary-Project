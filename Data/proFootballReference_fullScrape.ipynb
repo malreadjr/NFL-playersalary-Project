{
 "cells": [
  {
   "cell_type": "code",
   "execution_count": 46,
   "metadata": {},
   "outputs": [],
   "source": [
    "import pandas as pd\n",
    "from pathlib import Path\n",
    "from bs4 import BeautifulSoup\n",
    "import requests"
   ]
  },
  {
   "cell_type": "code",
   "execution_count": 21,
   "metadata": {},
   "outputs": [],
   "source": [
    "readpath = Path.cwd() / 'teamAbbreviations.csv'\n",
    "teams_df = pd.read_csv(readpath, header=None)\n",
    "teams = teams_df[0].tolist()\n",
    "years = ['2015', '2016', '2017', '2018', '2019', '2020']\n",
    "# https://www.pro-football-reference.com/teams/buf/2020_roster.htm\n",
    "base_url = 'https://www.pro-football-reference.com/teams/'"
   ]
  },
  {
   "cell_type": "code",
   "execution_count": 29,
   "metadata": {},
   "outputs": [],
   "source": [
    "for year in years:\n",
    "    for team in teams:\n",
    "        url = base_url + team + '/' + year + '_roster.htm'\n",
    "        "
   ]
  },
  {
   "cell_type": "code",
   "execution_count": 50,
   "metadata": {},
   "outputs": [],
   "source": [
    "url = 'https://www.pro-football-reference.com/teams/dal/2020_roster.htm'\n",
    "r = requests.get(url)\n",
    "soup = BeautifulSoup(r.content, 'html.parser')\n",
    "parsed_table = soup.find_all('table')[0]"
   ]
  },
  {
   "cell_type": "code",
   "execution_count": 48,
   "metadata": {},
   "outputs": [
    {
     "data": {
      "text/plain": [
       "<table class=\"sortable stats_table\" data-cols-to-freeze=\"1,2\" id=\"starters\"><caption>Starters Table</caption>\n",
       "<colgroup><col/><col/><col/><col/><col/><col/><col/></colgroup>\n",
       "<thead>\n",
       "<tr>\n",
       "<th aria-label=\"PositionIn player and team season stats,Capitals indicates primary starter.Lower-case means part-time starter.\" class=\"poptip sort_default_asc left\" data-stat=\"pos\" data-tip=\"&lt;b&gt;Position&lt;/b&gt;&lt;br&gt;In player and team season stats,&lt;br&gt;Capitals indicates primary starter.&lt;br&gt;Lower-case means part-time starter.\" scope=\"col\">Pos</th>\n",
       "<th aria-label=\"Player \" class=\"poptip sort_default_asc show_partial_when_sorting left\" data-stat=\"player\" scope=\"col\">Player </th>\n",
       "<th aria-label=\"Player's age on December 31st of that year\" class=\"poptip sort_default_asc center\" data-stat=\"age\" data-tip=\"Player's age on December 31st of that year\" scope=\"col\">Age</th>\n",
       "<th aria-label=\"ExperienceYears the player was/has been in pro football.\" class=\"poptip sort_default_asc show_partial_when_sorting center\" data-stat=\"experience\" data-tip=\"&lt;b&gt;Experience&lt;/b&gt;&lt;br&gt;Years the player was/has been in pro football.\" scope=\"col\">Yrs</th>\n",
       "<th aria-label=\"Games Started\" class=\"poptip center\" data-stat=\"gs\" data-tip=\"Games started as an offensive or defensive player\" scope=\"col\">GS</th>\n",
       "<th aria-label=\"Summary of Player Stats\" class=\"poptip sort_default_asc show_partial_when_sorting center\" data-stat=\"stat_summary\" scope=\"col\">Summary of Player Stats</th>\n",
       "<th aria-label=\"Order within the round is not yet available.\" class=\"poptip sort_default_asc show_partial_when_sorting center\" data-stat=\"draft_info\" data-tip=\"&lt;br&gt;Order within the round is not yet available.\" scope=\"col\">Drafted (tm/rnd/yr)</th>\n",
       "</tr>\n",
       "</thead>\n",
       "<tbody>\n",
       "<tr><th class=\"left iz\" data-stat=\"pos\" scope=\"row\"></th><td class=\"left\" data-stat=\"player\"><b>Offensive Starters</b></td><td class=\"right iz\" data-stat=\"age\"></td><td class=\"right iz\" data-stat=\"experience\"></td><td class=\"right iz\" data-stat=\"gs\"></td><td class=\"left iz\" data-stat=\"stat_summary\"></td><td class=\"left iz\" data-stat=\"draft_info\"></td></tr>\n",
       "<tr class=\"full_table\"><th class=\"left\" csk=\"20\" data-stat=\"pos\" scope=\"row\">RB</th><td class=\"left\" csk=\"Elliott,Ezekiel\" data-append-csv=\"ElliEz00\" data-stat=\"player\"><a href=\"/players/E/ElliEz00.htm\">Ezekiel Elliott</a></td><td class=\"right\" data-stat=\"age\">25</td><td class=\"right\" data-stat=\"experience\">4</td><td class=\"right\" data-stat=\"gs\">15</td><td class=\"left\" data-stat=\"stat_summary\">244 rushes for 979 yards, 6 td, &amp; 52 catches for 338 yards and 2 td</td><td class=\"left\" data-stat=\"draft_info\">Dallas Cowboys / 1st / 4th pick / <a href=\"https://www.pro-football-reference.com/years/2016/draft.htm\">2016</a></td></tr>\n",
       "<tr class=\"full_table\"><th class=\"left\" csk=\"100\" data-stat=\"pos\" scope=\"row\">WR</th><td class=\"left\" csk=\"Cooper,Amari\" data-append-csv=\"CoopAm00\" data-stat=\"player\"><a href=\"/players/C/CoopAm00.htm\">Amari Cooper</a></td><td class=\"right\" data-stat=\"age\">26</td><td class=\"right\" data-stat=\"experience\">5</td><td class=\"right\" data-stat=\"gs\">15</td><td class=\"left\" data-stat=\"stat_summary\">92 catches for 1,114 yards, 5 td, &amp; 6 rushes for 14 yards and 0 td</td><td class=\"left\" data-stat=\"draft_info\">Oakland Raiders / 1st / 4th pick / <a href=\"https://www.pro-football-reference.com/years/2015/draft.htm\">2015</a></td></tr>\n",
       "<tr class=\"full_table\"><th class=\"left\" csk=\"100\" data-stat=\"pos\" scope=\"row\">WR</th><td class=\"left\" csk=\"Gallup,Michael\" data-append-csv=\"GallMi00\" data-stat=\"player\"><a href=\"/players/G/GallMi00.htm\">Michael Gallup</a></td><td class=\"right\" data-stat=\"age\">24</td><td class=\"right\" data-stat=\"experience\">2</td><td class=\"right\" data-stat=\"gs\">15</td><td class=\"left\" data-stat=\"stat_summary\">59 catches for 843 yards, 5 td</td><td class=\"left\" data-stat=\"draft_info\">Dallas Cowboys / 3rd / 81st pick / <a href=\"https://www.pro-football-reference.com/years/2018/draft.htm\">2018</a></td></tr>\n",
       "<tr class=\"full_table\"><th class=\"left\" csk=\"100\" data-stat=\"pos\" scope=\"row\">WR</th><td class=\"left\" csk=\"Lamb,CeeDee\" data-append-csv=\"LambCe00\" data-stat=\"player\"><a href=\"/players/L/LambCe00.htm\">CeeDee Lamb </a></td><td class=\"right\" data-stat=\"age\">21</td><td class=\"right\" data-stat=\"experience\">Rook</td><td class=\"right\" data-stat=\"gs\">14</td><td class=\"left\" data-stat=\"stat_summary\">74 catches for 935 yards, 5 td, &amp; 10 rushes for 82 yards and 1 td</td><td class=\"left\" data-stat=\"draft_info\">Dallas Cowboys / 1st / 17th pick / <a href=\"https://www.pro-football-reference.com/years/2020/draft.htm\">2020</a></td></tr>\n",
       "<tr class=\"full_table\"><th class=\"left\" csk=\"130\" data-stat=\"pos\" scope=\"row\">TE</th><td class=\"left\" csk=\"Schultz,Dalton\" data-append-csv=\"SchuDa00\" data-stat=\"player\"><a href=\"/players/S/SchuDa00.htm\">Dalton Schultz</a></td><td class=\"right\" data-stat=\"age\">24</td><td class=\"right\" data-stat=\"experience\">2</td><td class=\"right\" data-stat=\"gs\">14</td><td class=\"left\" data-stat=\"stat_summary\">63 catches for 615 yards, 4 td</td><td class=\"left\" data-stat=\"draft_info\">Dallas Cowboys / 4th / 137th pick / <a href=\"https://www.pro-football-reference.com/years/2018/draft.htm\">2018</a></td></tr>\n",
       "<tr class=\"full_table\"><th class=\"left\" csk=\"155\" data-stat=\"pos\" scope=\"row\">T</th><td class=\"left\" csk=\"Steele,Terence\" data-append-csv=\"SteeTe01\" data-stat=\"player\"><a href=\"/players/S/SteeTe01.htm\">Terence Steele</a></td><td class=\"right\" data-stat=\"age\">23</td><td class=\"right\" data-stat=\"experience\">Rook</td><td class=\"right\" data-stat=\"gs\">14</td><td class=\"left iz\" data-stat=\"stat_summary\"></td><td class=\"left iz\" data-stat=\"draft_info\"></td></tr>\n",
       "<tr class=\"full_table\"><th class=\"left\" csk=\"165\" data-stat=\"pos\" scope=\"row\">G</th><td class=\"left\" csk=\"Martin,Zack\" data-append-csv=\"MartZa00\" data-stat=\"player\"><a href=\"/players/M/MartZa00.htm\">Zack Martin </a></td><td class=\"right\" data-stat=\"age\">30</td><td class=\"right\" data-stat=\"experience\">6</td><td class=\"right\" data-stat=\"gs\">10</td><td class=\"left iz\" data-stat=\"stat_summary\"></td><td class=\"left\" data-stat=\"draft_info\">Dallas Cowboys / 1st / 16th pick / <a href=\"https://www.pro-football-reference.com/years/2014/draft.htm\">2014</a></td></tr>\n",
       "<tr class=\"full_table\"><th class=\"left\" csk=\"165\" data-stat=\"pos\" scope=\"row\">G</th><td class=\"left\" csk=\"Williams,Connor\" data-append-csv=\"WillCo00\" data-stat=\"player\"><a href=\"/players/W/WillCo00.htm\">Connor Williams</a></td><td class=\"right\" data-stat=\"age\">23</td><td class=\"right\" data-stat=\"experience\">2</td><td class=\"right\" data-stat=\"gs\">16</td><td class=\"left iz\" data-stat=\"stat_summary\"></td><td class=\"left\" data-stat=\"draft_info\">Dallas Cowboys / 2nd / 50th pick / <a href=\"https://www.pro-football-reference.com/years/2018/draft.htm\">2018</a></td></tr>\n",
       "<tr class=\"full_table\"><th class=\"left\" csk=\"170\" data-stat=\"pos\" scope=\"row\">C</th><td class=\"left\" csk=\"Looney,Joe\" data-append-csv=\"LoonJo01\" data-stat=\"player\"><a href=\"/players/L/LoonJo01.htm\">Joe Looney</a></td><td class=\"right\" data-stat=\"age\">30</td><td class=\"right\" data-stat=\"experience\">8</td><td class=\"right\" data-stat=\"gs\">12</td><td class=\"left iz\" data-stat=\"stat_summary\"></td><td class=\"left\" data-stat=\"draft_info\">San Francisco 49ers / 4th / 117th pick / <a href=\"https://www.pro-football-reference.com/years/2012/draft.htm\">2012</a></td></tr>\n",
       "<tr><th class=\"left iz\" data-stat=\"pos\" scope=\"row\"></th><td class=\"left\" data-stat=\"player\"><b>Defensive Starters</b></td><td class=\"right iz\" data-stat=\"age\"></td><td class=\"right iz\" data-stat=\"experience\"></td><td class=\"right iz\" data-stat=\"gs\"></td><td class=\"left iz\" data-stat=\"stat_summary\"></td><td class=\"left iz\" data-stat=\"draft_info\"></td></tr>\n",
       "<tr class=\"full_table\"><th class=\"left\" csk=\"215\" data-stat=\"pos\" scope=\"row\">DE</th><td class=\"left\" csk=\"Lawrence,DeMarcus\" data-append-csv=\"LawrDe00\" data-stat=\"player\"><a href=\"/players/L/LawrDe00.htm\">DeMarcus Lawrence</a></td><td class=\"right\" data-stat=\"age\">28</td><td class=\"right\" data-stat=\"experience\">6</td><td class=\"right\" data-stat=\"gs\">15</td><td class=\"left iz\" data-stat=\"stat_summary\"></td><td class=\"left\" data-stat=\"draft_info\">Dallas Cowboys / 2nd / 34th pick / <a href=\"https://www.pro-football-reference.com/years/2014/draft.htm\">2014</a></td></tr>\n",
       "<tr class=\"full_table\"><th class=\"left\" csk=\"215\" data-stat=\"pos\" scope=\"row\">DE</th><td class=\"left\" csk=\"Smith,Aldon\" data-append-csv=\"SmitAl04\" data-stat=\"player\"><a href=\"/players/S/SmitAl04.htm\">Aldon Smith</a></td><td class=\"right\" data-stat=\"age\">31</td><td class=\"right\" data-stat=\"experience\">9</td><td class=\"right\" data-stat=\"gs\">16</td><td class=\"left iz\" data-stat=\"stat_summary\"></td><td class=\"left\" data-stat=\"draft_info\">San Francisco 49ers / 1st / 7th pick / <a href=\"https://www.pro-football-reference.com/years/2011/draft.htm\">2011</a></td></tr>\n",
       "<tr class=\"full_table\"><th class=\"left\" csk=\"275\" data-stat=\"pos\" scope=\"row\">OLB</th><td class=\"left\" csk=\"Vander Esch,Leighton\" data-append-csv=\"VandLe00\" data-stat=\"player\"><a href=\"/players/V/VandLe00.htm\">Leighton Vander Esch</a></td><td class=\"right\" data-stat=\"age\">24</td><td class=\"right\" data-stat=\"experience\">2</td><td class=\"right\" data-stat=\"gs\">10</td><td class=\"left iz\" data-stat=\"stat_summary\"></td><td class=\"left\" data-stat=\"draft_info\">Dallas Cowboys / 1st / 19th pick / <a href=\"https://www.pro-football-reference.com/years/2018/draft.htm\">2018</a></td></tr>\n",
       "<tr class=\"full_table\"><th class=\"left\" csk=\"295\" data-stat=\"pos\" scope=\"row\">ILB</th><td class=\"left\" csk=\"Smith,Jaylon\" data-append-csv=\"SmitJa05\" data-stat=\"player\"><a href=\"/players/S/SmitJa05.htm\">Jaylon Smith</a></td><td class=\"right\" data-stat=\"age\">25</td><td class=\"right\" data-stat=\"experience\">3</td><td class=\"right\" data-stat=\"gs\">16</td><td class=\"left iz\" data-stat=\"stat_summary\"></td><td class=\"left\" data-stat=\"draft_info\">Dallas Cowboys / 2nd / 34th pick / <a href=\"https://www.pro-football-reference.com/years/2016/draft.htm\">2016</a></td></tr>\n",
       "<tr class=\"full_table\"><th class=\"left\" csk=\"350\" data-stat=\"pos\" scope=\"row\">CB</th><td class=\"left\" csk=\"Diggs,Trevon\" data-append-csv=\"DiggTr00\" data-stat=\"player\"><a href=\"/players/D/DiggTr00.htm\">Trevon Diggs</a></td><td class=\"right\" data-stat=\"age\">22</td><td class=\"right\" data-stat=\"experience\">Rook</td><td class=\"right\" data-stat=\"gs\">11</td><td class=\"left\" data-stat=\"stat_summary\">1.0 sacks, 3 interceptions, 0 fumbles recovered</td><td class=\"left\" data-stat=\"draft_info\">Dallas Cowboys / 2nd / 51st pick / <a href=\"https://www.pro-football-reference.com/years/2020/draft.htm\">2020</a></td></tr>\n",
       "<tr class=\"full_table\"><th class=\"left\" csk=\"350\" data-stat=\"pos\" scope=\"row\">CB</th><td class=\"left\" csk=\"Lewis,Jourdan\" data-append-csv=\"LewiJo01\" data-stat=\"player\"><a href=\"/players/L/LewiJo01.htm\">Jourdan Lewis</a></td><td class=\"right\" data-stat=\"age\">25</td><td class=\"right\" data-stat=\"experience\">3</td><td class=\"right\" data-stat=\"gs\">13</td><td class=\"left\" data-stat=\"stat_summary\">2.0 sacks, 0 interceptions, 1 fumble recovered</td><td class=\"left\" data-stat=\"draft_info\">Dallas Cowboys / 3rd / 92nd pick / <a href=\"https://www.pro-football-reference.com/years/2017/draft.htm\">2017</a></td></tr>\n",
       "<tr class=\"full_table\"><th class=\"left\" csk=\"370\" data-stat=\"pos\" scope=\"row\">SS</th><td class=\"left\" csk=\"Wilson,Donovan\" data-append-csv=\"WilsDo01\" data-stat=\"player\"><a href=\"/players/W/WilsDo01.htm\">Donovan Wilson</a></td><td class=\"right\" data-stat=\"age\">25</td><td class=\"right\" data-stat=\"experience\">1</td><td class=\"right\" data-stat=\"gs\">10</td><td class=\"left\" data-stat=\"stat_summary\">3.5 sacks, 2 interceptions, 2 fumbles recovered</td><td class=\"left\" data-stat=\"draft_info\">Dallas Cowboys / 6th / 213th pick / <a href=\"https://www.pro-football-reference.com/years/2019/draft.htm\">2019</a></td></tr>\n",
       "<tr class=\"full_table\"><th class=\"left\" csk=\"380\" data-stat=\"pos\" scope=\"row\">FS</th><td class=\"left\" csk=\"Woods,Xavier\" data-append-csv=\"WoodXa00\" data-stat=\"player\"><a href=\"/players/W/WoodXa00.htm\">Xavier Woods</a></td><td class=\"right\" data-stat=\"age\">25</td><td class=\"right\" data-stat=\"experience\">3</td><td class=\"right\" data-stat=\"gs\">15</td><td class=\"left iz\" data-stat=\"stat_summary\"></td><td class=\"left\" data-stat=\"draft_info\">Dallas Cowboys / 6th / 191st pick / <a href=\"https://www.pro-football-reference.com/years/2017/draft.htm\">2017</a></td></tr>\n",
       "</tbody></table>"
      ]
     },
     "execution_count": 48,
     "metadata": {},
     "output_type": "execute_result"
    }
   ],
   "source": [
    "parsed_table"
   ]
  },
  {
   "cell_type": "code",
   "execution_count": null,
   "metadata": {},
   "outputs": [],
   "source": []
  }
 ],
 "metadata": {
  "kernelspec": {
   "display_name": "Python 3",
   "language": "python",
   "name": "python3"
  },
  "language_info": {
   "codemirror_mode": {
    "name": "ipython",
    "version": 3
   },
   "file_extension": ".py",
   "mimetype": "text/x-python",
   "name": "python",
   "nbconvert_exporter": "python",
   "pygments_lexer": "ipython3",
   "version": "3.8.3"
  }
 },
 "nbformat": 4,
 "nbformat_minor": 4
}
